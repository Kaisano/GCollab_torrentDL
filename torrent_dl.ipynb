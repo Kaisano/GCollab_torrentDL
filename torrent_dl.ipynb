{
  "nbformat": 4,
  "nbformat_minor": 0,
  "metadata": {
    "colab": {
      "provenance": [],
      "authorship_tag": "ABX9TyM0XB0guVSb0fu9m829aVyz",
      "include_colab_link": true
    },
    "kernelspec": {
      "name": "python3",
      "display_name": "Python 3"
    },
    "language_info": {
      "name": "python"
    },
    "widgets": {
      "application/vnd.jupyter.widget-state+json": {
        "707872d4cda641439e25457df90bea64": {
          "model_module": "@jupyter-widgets/output",
          "model_name": "OutputModel",
          "model_module_version": "1.0.0",
          "state": {
            "_dom_classes": [],
            "_model_module": "@jupyter-widgets/output",
            "_model_module_version": "1.0.0",
            "_model_name": "OutputModel",
            "_view_count": null,
            "_view_module": "@jupyter-widgets/output",
            "_view_module_version": "1.0.0",
            "_view_name": "OutputView",
            "layout": "IPY_MODEL_adb085ba90984ada9cc84f77ab30b43b",
            "msg_id": "",
            "outputs": [
              {
                "output_type": "display_data",
                "data": {
                  "text/plain": "\u001b[32mComplete\u001b[0m           \u001b[1m[Erai-raws] City the Animation - 06 [1080p AMZN WE...\u001b[0m \u001b[38;2;114;156;31m━━━━━━━━━━━━━━━━━━━━\u001b[0m \u001b[35m100%\u001b[0m \u001b[36m0:00:00\u001b[0m 0.0 kB/s\n\u001b[32mComplete\u001b[0m           \u001b[1m[Erai-raws] City the Animation - 07 [1080p AMZN WE...\u001b[0m \u001b[38;2;114;156;31m━━━━━━━━━━━━━━━━━━━━\u001b[0m \u001b[35m100%\u001b[0m \u001b[36m0:00:00\u001b[0m 0.0 kB/s\n\u001b[33mObtaining Metadata\u001b[0m \u001b[1mYuru Camp Season 2\u001b[0m                                    \u001b[38;5;237m━━━━━━━━━━━━━━━━━━━━\u001b[0m \u001b[35m  0%\u001b[0m \u001b[36m-:--:--\u001b[0m 0.0 kB/s\n",
                  "text/html": "<pre style=\"white-space:pre;overflow-x:auto;line-height:normal;font-family:Menlo,'DejaVu Sans Mono',consolas,'Courier New',monospace\"><span style=\"color: #008000; text-decoration-color: #008000\">Complete</span>           <span style=\"font-weight: bold\">[Erai-raws] City the Animation - 06 [1080p AMZN WE...</span> <span style=\"color: #729c1f; text-decoration-color: #729c1f\">━━━━━━━━━━━━━━━━━━━━</span> <span style=\"color: #800080; text-decoration-color: #800080\">100%</span> <span style=\"color: #008080; text-decoration-color: #008080\">0:00:00</span> 0.0 kB/s\n<span style=\"color: #008000; text-decoration-color: #008000\">Complete</span>           <span style=\"font-weight: bold\">[Erai-raws] City the Animation - 07 [1080p AMZN WE...</span> <span style=\"color: #729c1f; text-decoration-color: #729c1f\">━━━━━━━━━━━━━━━━━━━━</span> <span style=\"color: #800080; text-decoration-color: #800080\">100%</span> <span style=\"color: #008080; text-decoration-color: #008080\">0:00:00</span> 0.0 kB/s\n<span style=\"color: #808000; text-decoration-color: #808000\">Obtaining Metadata</span> <span style=\"font-weight: bold\">Yuru Camp Season 2</span>                                    <span style=\"color: #3a3a3a; text-decoration-color: #3a3a3a\">━━━━━━━━━━━━━━━━━━━━</span> <span style=\"color: #800080; text-decoration-color: #800080\">  0%</span> <span style=\"color: #008080; text-decoration-color: #008080\">-:--:--</span> 0.0 kB/s\n</pre>\n"
                },
                "metadata": {}
              }
            ]
          }
        },
        "adb085ba90984ada9cc84f77ab30b43b": {
          "model_module": "@jupyter-widgets/base",
          "model_name": "LayoutModel",
          "model_module_version": "1.2.0",
          "state": {
            "_model_module": "@jupyter-widgets/base",
            "_model_module_version": "1.2.0",
            "_model_name": "LayoutModel",
            "_view_count": null,
            "_view_module": "@jupyter-widgets/base",
            "_view_module_version": "1.2.0",
            "_view_name": "LayoutView",
            "align_content": null,
            "align_items": null,
            "align_self": null,
            "border": null,
            "bottom": null,
            "display": null,
            "flex": null,
            "flex_flow": null,
            "grid_area": null,
            "grid_auto_columns": null,
            "grid_auto_flow": null,
            "grid_auto_rows": null,
            "grid_column": null,
            "grid_gap": null,
            "grid_row": null,
            "grid_template_areas": null,
            "grid_template_columns": null,
            "grid_template_rows": null,
            "height": null,
            "justify_content": null,
            "justify_items": null,
            "left": null,
            "margin": null,
            "max_height": null,
            "max_width": null,
            "min_height": null,
            "min_width": null,
            "object_fit": null,
            "object_position": null,
            "order": null,
            "overflow": null,
            "overflow_x": null,
            "overflow_y": null,
            "padding": null,
            "right": null,
            "top": null,
            "visibility": null,
            "width": null
          }
        }
      }
    }
  },
  "cells": [
    {
      "cell_type": "markdown",
      "metadata": {
        "id": "view-in-github",
        "colab_type": "text"
      },
      "source": [
        "<a href=\"https://colab.research.google.com/github/Kaisano/GCollab_torrentDL/blob/main/torrent_dl.ipynb\" target=\"_parent\"><img src=\"https://colab.research.google.com/assets/colab-badge.svg\" alt=\"Open In Colab\"/></a>"
      ]
    },
    {
      "cell_type": "markdown",
      "source": [
        "# Install Dependencies"
      ],
      "metadata": {
        "id": "MvoTfeZpP_DM"
      }
    },
    {
      "cell_type": "code",
      "execution_count": null,
      "metadata": {
        "colab": {
          "base_uri": "https://localhost:8080/"
        },
        "id": "LJjbdSeD7zZj",
        "outputId": "9b427d1d-ad84-47d7-aef1-16e85323f55a",
        "collapsed": true
      },
      "outputs": [
        {
          "output_type": "stream",
          "name": "stdout",
          "text": [
            "Reading package lists... Done\n",
            "Building dependency tree... Done\n",
            "Reading state information... Done\n",
            "7zip is already the newest version (21.07+dfsg-4).\n",
            "0 upgraded, 0 newly installed, 0 to remove and 38 not upgraded.\n",
            "Requirement already satisfied: pip in /usr/local/lib/python3.12/dist-packages (25.2)\n",
            "Requirement already satisfied: setuptools in /usr/local/lib/python3.12/dist-packages (80.9.0)\n",
            "Requirement already satisfied: wheel in /usr/local/lib/python3.12/dist-packages (0.45.1)\n",
            "Requirement already satisfied: libtorrent in /usr/local/lib/python3.12/dist-packages (2.0.11)\n",
            "Requirement already satisfied: lbry-libtorrent in /usr/local/lib/python3.12/dist-packages (1.2.4)\n",
            "Requirement already satisfied: dropbox in /usr/local/lib/python3.12/dist-packages (12.0.2)\n",
            "Requirement already satisfied: tomlkit in /usr/local/lib/python3.12/dist-packages (0.13.3)\n",
            "Requirement already satisfied: requests>=2.16.2 in /usr/local/lib/python3.12/dist-packages (from dropbox) (2.32.4)\n",
            "Requirement already satisfied: six>=1.12.0 in /usr/local/lib/python3.12/dist-packages (from dropbox) (1.17.0)\n",
            "Requirement already satisfied: stone<3.3.3,>=2 in /usr/local/lib/python3.12/dist-packages (from dropbox) (3.3.1)\n",
            "Requirement already satisfied: ply>=3.4 in /usr/local/lib/python3.12/dist-packages (from stone<3.3.3,>=2->dropbox) (3.11)\n",
            "Requirement already satisfied: charset_normalizer<4,>=2 in /usr/local/lib/python3.12/dist-packages (from requests>=2.16.2->dropbox) (3.4.3)\n",
            "Requirement already satisfied: idna<4,>=2.5 in /usr/local/lib/python3.12/dist-packages (from requests>=2.16.2->dropbox) (3.10)\n",
            "Requirement already satisfied: urllib3<3,>=1.21.1 in /usr/local/lib/python3.12/dist-packages (from requests>=2.16.2->dropbox) (2.5.0)\n",
            "Requirement already satisfied: certifi>=2017.4.17 in /usr/local/lib/python3.12/dist-packages (from requests>=2.16.2->dropbox) (2025.8.3)\n"
          ]
        }
      ],
      "source": [
        "!apt install 7zip\n",
        "!python -m pip install --upgrade pip setuptools wheel\n",
        "!pip install libtorrent lbry-libtorrent dropbox tomlkit\n",
        "# !python -m pip install lbry-libtorrent"
      ]
    },
    {
      "cell_type": "markdown",
      "source": [
        "# Imports\n",
        "rich.progress for concurrent progress tracking<br>\n",
        "libtorrent as torrent client<br>\n",
        "dropbox as storage solution<br>"
      ],
      "metadata": {
        "id": "szsLIaelQCZ8"
      }
    },
    {
      "cell_type": "code",
      "source": [
        "import sys\n",
        "import os, subprocess, glob\n",
        "from concurrent.futures import ThreadPoolExecutor, Future, as_completed\n",
        "\n",
        "import time\n",
        "from timeit import default_timer as timer\n",
        "\n",
        "from pathlib import Path\n",
        "from tomlkit import document, table, nl, comment\n",
        "from tomlkit import dumps\n",
        "from tomlkit.toml_file import TOMLFile\n",
        "\n",
        "import libtorrent as lt\n",
        "from dropbox import Dropbox, DropboxOAuth2FlowNoRedirect\n",
        "\n",
        "from rich.progress import Progress, TextColumn, BarColumn, TaskProgressColumn, TimeRemainingColumn"
      ],
      "metadata": {
        "id": "BHJqPWRToZlT"
      },
      "execution_count": 100,
      "outputs": []
    },
    {
      "cell_type": "markdown",
      "source": [
        "# Setup Filesystem"
      ],
      "metadata": {
        "id": "7KMB2YvOQT4u"
      }
    },
    {
      "cell_type": "code",
      "source": [
        "magnet_path = Path(\"/content/magnet.links\")\n",
        "magnet_file = TOMLFile(magnet_path.as_posix())\n",
        "# dbxcfg_path = Path(\"/content/dbx.ini\")\n",
        "# dbxcfg_file = TOMLFile(dbxcfg_file.as_posix())\n",
        "\n",
        "if not magnet_path.exists():\n",
        "  magnet_document = document()\n",
        "\n",
        "  example_folder_tor = table()\n",
        "  example_folder_tor[\"magnets\"] = [\"mag1\"]\n",
        "\n",
        "  example_movie_tor = table()\n",
        "  example_movie_tor[\"magnets\"] = [\"mag2\"]\n",
        "\n",
        "  example_multifiles = table()\n",
        "  example_multifiles[\"magnets\"] = [\"mag3\", \"mag4\", \"mag5\", \"...\"]\n",
        "\n",
        "  magnet_document.add(comment(\"################################################################################\"))\n",
        "  magnet_document.add(comment(\"#  This file explicitly outlines how torrents should be stored.                #\"))\n",
        "  magnet_document.add(comment(\"################################################################################\"))\n",
        "  magnet_document.add(comment(\"torrents stored in a folder or are a single file\"))\n",
        "  magnet_document.add(\"show1fldr\", example_folder_tor)\n",
        "  magnet_document.add(\"movie1\", example_movie_tor)\n",
        "  magnet_document.add(nl())\n",
        "  magnet_document.add(comment(\"seperate file episodes\"))\n",
        "  magnet_document.add(\"show2fldr\", example_multifiles)\n",
        "\n",
        "  magnet_file.write(magnet_document)\n",
        "\n",
        "# dbx_conf = ConfigParser()\n",
        "# if not dbxcfg_path.exists():\n",
        "#   dbx_conf[\"AUTHENTICATION\"] = {\n",
        "#       \"APP_KEY\":\"\",\n",
        "#       \"APP_SECRET\":\"\"\n",
        "#   }\n",
        "#   with dbxcfg_path.open(\"w\") as fw:\n",
        "#     dbx_conf.write(fw)"
      ],
      "metadata": {
        "id": "qAvoGX8WQVe3"
      },
      "execution_count": null,
      "outputs": []
    },
    {
      "cell_type": "markdown",
      "source": [
        "# Download Torrents"
      ],
      "metadata": {
        "id": "NoGfbU7JzGQN"
      }
    },
    {
      "cell_type": "code",
      "source": [
        "# TODO: Handle torrent files\n",
        "def download_torrent(progress: Progress, media_name: str, link: str):\n",
        "  MAX_FILENAME_LEN = 50\n",
        "  METADATA_TIMEOUT_MS = .8\n",
        "  save_path=Path(\"/content/Torrents/\") / media_name\n",
        "  if not save_path.exists():\n",
        "    save_path.mkdir(parents=True)\n",
        "\n",
        "  task = progress.add_task(\n",
        "        \"download\",\n",
        "        total=100,\n",
        "        status=\"[yellow]Obtaining Metadata\",\n",
        "        filename=media_name,\n",
        "        speed=\"0.0 kB/s\",\n",
        "  )\n",
        "  ses = lt.session()\n",
        "\n",
        "  # setup torrent handle\n",
        "  try:\n",
        "    atp = lt.parse_magnet_uri(link)           # atp = add torrent parameters\n",
        "  except Exception as e:\n",
        "    progress.update(task, status=\"[red]Failed to parse magnet!\")\n",
        "    return None\n",
        "  atp.save_path = str(save_path.as_posix())\n",
        "\n",
        "  handle = ses.add_torrent(atp)\n",
        "  status = handle.status()\n",
        "\n",
        "  while not handle.status().has_metadata:\n",
        "    time.sleep(METADATA_TIMEOUT_MS/1000)\n",
        "    status = handle.status()\n",
        "\n",
        "  filename =  status.name if len(status.name) < MAX_FILENAME_LEN \\\n",
        "              else f\"{status.name[:MAX_FILENAME_LEN]}...\"\n",
        "\n",
        "  progress.update(task,\n",
        "                  status=\"[yellow]Downloading\",\n",
        "                  filename=filename\n",
        "  )\n",
        "\n",
        "  # download torrent\n",
        "  # while not status.is_seeding:\n",
        "  #   status = handle.status()\n",
        "\n",
        "  #   progress.update(task,\n",
        "  #               completed=status.progress * 100,\n",
        "  #               speed=f\"{status.download_rate/1000:.1f} kB/s\",\n",
        "  #   )\n",
        "  # progress.update(task,\n",
        "  #               completed=status.progress * 100,\n",
        "  #               speed=f\"{status.download_rate/1000:.1f} kB/s\",\n",
        "  # )\n",
        "\n",
        "  progress.update(task,\n",
        "                  status=\"[green]Complete\",\n",
        "                  completed=100,\n",
        "  )"
      ],
      "metadata": {
        "id": "6jCUnfoPWoLZ"
      },
      "execution_count": 95,
      "outputs": []
    },
    {
      "cell_type": "code",
      "source": [
        "with Progress(\n",
        "  TextColumn(\"{task.fields[status]}\"),\n",
        "  TextColumn(\"[bold]{task.fields[filename]}\"),\n",
        "  BarColumn(),\n",
        "  TaskProgressColumn(),\n",
        "  TimeRemainingColumn(),\n",
        "  TextColumn(\"{task.fields[speed]}\"),\n",
        ") as progress:\n",
        "\n",
        "  with ThreadPoolExecutor() as executor:\n",
        "    media = magnet_file.read()\n",
        "    for m in media:\n",
        "      magnet_links = media[m][\"magnets\"]\n",
        "\n",
        "      futures = [executor.submit(download_torrent, progress, m, link) for link in magnet_links]\n",
        "\n",
        "    for future in as_completed(futures):\n",
        "      try:\n",
        "          future.result()\n",
        "      except Exception as e:\n",
        "          print(\"Upload failed:\", e)"
      ],
      "metadata": {
        "id": "DF_5q8Vys46K",
        "outputId": "c652c6dc-2de9-476b-d097-611c533d4925",
        "colab": {
          "base_uri": "https://localhost:8080/",
          "height": 68,
          "referenced_widgets": [
            "707872d4cda641439e25457df90bea64",
            "adb085ba90984ada9cc84f77ab30b43b"
          ]
        }
      },
      "execution_count": 106,
      "outputs": [
        {
          "output_type": "display_data",
          "data": {
            "text/plain": [
              "Output()"
            ],
            "application/vnd.jupyter.widget-view+json": {
              "version_major": 2,
              "version_minor": 0,
              "model_id": "707872d4cda641439e25457df90bea64"
            }
          },
          "metadata": {}
        },
        {
          "output_type": "display_data",
          "data": {
            "text/plain": [],
            "text/html": [
              "<pre style=\"white-space:pre;overflow-x:auto;line-height:normal;font-family:Menlo,'DejaVu Sans Mono',consolas,'Courier New',monospace\"></pre>\n"
            ]
          },
          "metadata": {}
        }
      ]
    },
    {
      "cell_type": "code",
      "source": [
        "# subprocess.run([\"7za\", \"a\", \"-v1g\", \"/content/Torrent.zip\", \"/content/Torrent/\"])"
      ],
      "metadata": {
        "id": "JLGWX44myDSD",
        "colab": {
          "base_uri": "https://localhost:8080/"
        },
        "outputId": "92050a12-fd64-4784-97a0-f02ac2151998"
      },
      "execution_count": null,
      "outputs": [
        {
          "output_type": "execute_result",
          "data": {
            "text/plain": [
              "CompletedProcess(args=['7za', 'a', '-v1024m', '/content/Torrent.zip', '/content/Torrent/'], returncode=2)"
            ]
          },
          "metadata": {},
          "execution_count": 13
        }
      ]
    },
    {
      "cell_type": "code",
      "source": [
        "# def upload(\n",
        "#     access_token,\n",
        "#     file_path,\n",
        "#     target_path,\n",
        "#     timeout=900,\n",
        "#     chunk_size=4 * 1024 * 1024,\n",
        "# ):\n",
        "#     dbx = dropbox.Dropbox(access_token, timeout=timeout)\n",
        "#     with open(file_path, \"rb\") as f:\n",
        "#         file_size = os.path.getsize(file_path)\n",
        "#         if file_size <= chunk_size:\n",
        "#             print(dbx.files_upload(f.read(), target_path))\n",
        "#         else:\n",
        "#             with tqdm(total=file_size, desc=\"Uploaded\") as pbar:\n",
        "#                 upload_session_start_result = dbx.files_upload_session_start(\n",
        "#                     f.read(chunk_size)\n",
        "#                 )\n",
        "#                 pbar.update(chunk_size)\n",
        "#                 cursor = dropbox.files.UploadSessionCursor(\n",
        "#                     session_id=upload_session_start_result.session_id,\n",
        "#                     offset=f.tell(),\n",
        "#                 )\n",
        "#                 commit = dropbox.files.CommitInfo(path=target_path)\n",
        "#                 while f.tell() < file_size:\n",
        "#                     if (file_size - f.tell()) <= chunk_size:\n",
        "#                         print(\n",
        "#                             dbx.files_upload_session_finish(\n",
        "#                                 f.read(chunk_size), cursor, commit\n",
        "#                             )\n",
        "#                         )\n",
        "#                     else:\n",
        "#                         dbx.files_upload_session_append(\n",
        "#                             f.read(chunk_size),\n",
        "#                             cursor.session_id,\n",
        "#                             cursor.offset,\n",
        "#                         )\n",
        "#                         cursor.offset = f.tell()\n",
        "#                     pbar.update(chunk_size)\n",
        "\n",
        "# torrents = list(Path(\"/content/\").glob(\"Torrent.zip.*\"))\n",
        "# # upload(TOKEN, torrents[1].as_posix(), \"/Torrent/\" + torrents[1].name)\n",
        "# # for torrent in torrents:\n",
        "\n",
        "\n",
        "# # run uploads in parallel\n",
        "# with concurrent.futures.ThreadPoolExecutor(max_workers=2) as executor:\n",
        "#     futures = [\n",
        "#         executor.submit(upload, TOKEN, torrent.as_posix(), \"/Torrent/\" + torrent.name)\n",
        "#         for torrent in torrents\n",
        "#     ]\n",
        "#     for future in concurrent.futures.as_completed(futures):\n",
        "#         try:\n",
        "#             future.result()\n",
        "#         except Exception as e:\n",
        "#             print(\"Upload failed:\", e)"
      ],
      "metadata": {
        "colab": {
          "base_uri": "https://localhost:8080/"
        },
        "id": "1EH3cAx1FfTO",
        "outputId": "b0e9933b-aa8f-4250-b6af-dac664eb7f1a"
      },
      "execution_count": null,
      "outputs": [
        {
          "output_type": "stream",
          "name": "stderr",
          "text": [
            "Uploaded: 931135488it [03:34, 4341456.09it/s]"
          ]
        },
        {
          "output_type": "stream",
          "name": "stdout",
          "text": [
            "FileMetadata(client_modified=datetime.datetime(2025, 10, 6, 6, 35, 57), content_hash='7da9e45bf034cf26c2e008db41876fc4150e4e0eef238532d2e7ea92cc9631cd', export_info=NOT_SET, file_lock_info=NOT_SET, has_explicit_shared_members=NOT_SET, id='id:uarvdFOTHrAAAAAAAAAAHg', is_downloadable=True, media_info=NOT_SET, name='Torrent.zip.001', parent_shared_folder_id=NOT_SET, path_display='/Torrent/Torrent.zip.001', path_lower='/torrent/torrent.zip.001', preview_url=NOT_SET, property_groups=NOT_SET, rev='0164077aa05e6c60000000300d37ac1', server_modified=datetime.datetime(2025, 10, 6, 6, 35, 58), sharing_info=NOT_SET, size=928419183, symlink_info=NOT_SET)\n"
          ]
        },
        {
          "output_type": "stream",
          "name": "stderr",
          "text": [
            "\n"
          ]
        }
      ]
    }
  ]
}