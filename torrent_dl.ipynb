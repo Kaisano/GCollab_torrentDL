{
  "nbformat": 4,
  "nbformat_minor": 0,
  "metadata": {
    "colab": {
      "provenance": [],
      "authorship_tag": "ABX9TyPDeCyV1JRmMVIMIvGbsgC6",
      "include_colab_link": true
    },
    "kernelspec": {
      "name": "python3",
      "display_name": "Python 3"
    },
    "language_info": {
      "name": "python"
    }
  },
  "cells": [
    {
      "cell_type": "markdown",
      "metadata": {
        "id": "view-in-github",
        "colab_type": "text"
      },
      "source": [
        "<a href=\"https://colab.research.google.com/github/Kaisano/GCollab_torrentDL/blob/main/torrent_dl.ipynb\" target=\"_parent\"><img src=\"https://colab.research.google.com/assets/colab-badge.svg\" alt=\"Open In Colab\"/></a>"
      ]
    },
    {
      "cell_type": "markdown",
      "source": [
        "# Install Dependencies"
      ],
      "metadata": {
        "id": "MvoTfeZpP_DM"
      }
    },
    {
      "cell_type": "code",
      "execution_count": 8,
      "metadata": {
        "colab": {
          "base_uri": "https://localhost:8080/"
        },
        "id": "LJjbdSeD7zZj",
        "outputId": "60abe5a6-661d-4252-bdad-8ab3cb2d1be5",
        "collapsed": true
      },
      "outputs": [
        {
          "output_type": "stream",
          "name": "stdout",
          "text": [
            "Reading package lists... Done\n",
            "Building dependency tree... Done\n",
            "Reading state information... Done\n",
            "7zip is already the newest version (21.07+dfsg-4).\n",
            "0 upgraded, 0 newly installed, 0 to remove and 38 not upgraded.\n",
            "Requirement already satisfied: pip in /usr/local/lib/python3.12/dist-packages (25.2)\n",
            "Requirement already satisfied: setuptools in /usr/local/lib/python3.12/dist-packages (80.9.0)\n",
            "Requirement already satisfied: wheel in /usr/local/lib/python3.12/dist-packages (0.45.1)\n",
            "Requirement already satisfied: libtorrent in /usr/local/lib/python3.12/dist-packages (2.0.11)\n",
            "Requirement already satisfied: lbry-libtorrent in /usr/local/lib/python3.12/dist-packages (1.2.4)\n",
            "Requirement already satisfied: dropbox in /usr/local/lib/python3.12/dist-packages (12.0.2)\n",
            "Requirement already satisfied: tomlkit in /usr/local/lib/python3.12/dist-packages (0.13.3)\n",
            "Requirement already satisfied: requests>=2.16.2 in /usr/local/lib/python3.12/dist-packages (from dropbox) (2.32.4)\n",
            "Requirement already satisfied: six>=1.12.0 in /usr/local/lib/python3.12/dist-packages (from dropbox) (1.17.0)\n",
            "Requirement already satisfied: stone<3.3.3,>=2 in /usr/local/lib/python3.12/dist-packages (from dropbox) (3.3.1)\n",
            "Requirement already satisfied: ply>=3.4 in /usr/local/lib/python3.12/dist-packages (from stone<3.3.3,>=2->dropbox) (3.11)\n",
            "Requirement already satisfied: charset_normalizer<4,>=2 in /usr/local/lib/python3.12/dist-packages (from requests>=2.16.2->dropbox) (3.4.3)\n",
            "Requirement already satisfied: idna<4,>=2.5 in /usr/local/lib/python3.12/dist-packages (from requests>=2.16.2->dropbox) (3.10)\n",
            "Requirement already satisfied: urllib3<3,>=1.21.1 in /usr/local/lib/python3.12/dist-packages (from requests>=2.16.2->dropbox) (2.5.0)\n",
            "Requirement already satisfied: certifi>=2017.4.17 in /usr/local/lib/python3.12/dist-packages (from requests>=2.16.2->dropbox) (2025.10.5)\n"
          ]
        }
      ],
      "source": [
        "!apt install 7zip\n",
        "!python -m pip install --upgrade pip setuptools wheel\n",
        "!pip install libtorrent lbry-libtorrent dropbox tomlkit\n",
        "# !python -m pip install lbry-libtorrent"
      ]
    },
    {
      "cell_type": "markdown",
      "source": [
        "# Imports\n",
        "rich.progress for concurrent progress tracking<br>\n",
        "libtorrent as torrent client<br>\n",
        "dropbox as storage solution<br>"
      ],
      "metadata": {
        "id": "szsLIaelQCZ8"
      }
    },
    {
      "cell_type": "code",
      "source": [
        "import sys\n",
        "import os, subprocess, glob\n",
        "from concurrent.futures import ThreadPoolExecutor, Future, as_completed\n",
        "import logging\n",
        "import time\n",
        "from timeit import default_timer as timer\n",
        "\n",
        "from pathlib import Path\n",
        "from tomlkit import document, table, nl, comment\n",
        "from tomlkit import dumps\n",
        "from tomlkit.toml_file import TOMLFile\n",
        "\n",
        "import libtorrent as lt\n",
        "from dropbox import Dropbox, DropboxOAuth2FlowNoRedirect\n",
        "import dropbox\n",
        "\n",
        "from rich.progress import Progress, TextColumn, BarColumn, TaskProgressColumn, TimeRemainingColumn"
      ],
      "metadata": {
        "id": "BHJqPWRToZlT"
      },
      "execution_count": 9,
      "outputs": []
    },
    {
      "cell_type": "markdown",
      "source": [
        "# Setup Filesystem"
      ],
      "metadata": {
        "id": "7KMB2YvOQT4u"
      }
    },
    {
      "cell_type": "code",
      "source": [
        "magnet_path = Path(\"/content/magnet.links\")\n",
        "magnet_file = TOMLFile(magnet_path.as_posix())\n",
        "dbxcfg_path = Path(\"/content/dbx.conf\")\n",
        "dbxcfg_file = TOMLFile(dbxcfg_path.as_posix())\n",
        "\n",
        "if not magnet_path.exists():\n",
        "  magnet_document = document()\n",
        "\n",
        "  example_folder_tor = table()\n",
        "  example_folder_tor[\"magnets\"] = [\"mag1\"]\n",
        "\n",
        "  example_movie_tor = table()\n",
        "  example_movie_tor[\"magnets\"] = [\"mag2\"]\n",
        "\n",
        "  example_multifiles = table()\n",
        "  example_multifiles[\"magnets\"] = [\"mag3\", \"mag4\", \"mag5\", \"...\"]\n",
        "\n",
        "  magnet_document.add(comment(\"################################################################################\"))\n",
        "  magnet_document.add(comment(\"#  This file explicitly outlines how torrents should be stored.                #\"))\n",
        "  magnet_document.add(comment(\"################################################################################\"))\n",
        "  magnet_document.add(comment(\"torrents stored in a folder or are a single file\"))\n",
        "  magnet_document.add(\"show1fldr\", example_folder_tor)\n",
        "  magnet_document.add(\"movie1\", example_movie_tor)\n",
        "  magnet_document.add(nl())\n",
        "  magnet_document.add(comment(\"seperate file episodes\"))\n",
        "  magnet_document.add(\"show2fldr\", example_multifiles)\n",
        "\n",
        "  magnet_file.write(magnet_document)\n",
        "\n",
        "if not dbxcfg_path.exists():\n",
        "  dbxcfg_document = document()\n",
        "  auth_table = table()\n",
        "  auth_table[\"APP_KEY\"] = \"\"\n",
        "  auth_table[\"APP_SECRET\"] = \"\"\n",
        "  auth_table[\"REFRESH_TOKEN\"] = \"\"\n",
        "  dbxcfg_document.add(\"AUTHENTICATION\", auth_table)\n",
        "\n",
        "  dbxcfg_file.write(dbxcfg_document)"
      ],
      "metadata": {
        "id": "qAvoGX8WQVe3"
      },
      "execution_count": 10,
      "outputs": []
    },
    {
      "cell_type": "markdown",
      "source": [
        "# Download Torrents"
      ],
      "metadata": {
        "id": "NoGfbU7JzGQN"
      }
    },
    {
      "cell_type": "code",
      "source": [
        "# TODO: Handle torrent files\n",
        "def download_torrent(progress: Progress, media_name: str, link: str):\n",
        "  MAX_FILENAME_LEN = 35\n",
        "  METADATA_TIMEOUT_MS = .8\n",
        "  save_path=Path(\"/content/Torrents/\") / media_name\n",
        "  if not save_path.exists():\n",
        "    save_path.mkdir(parents=True)\n",
        "\n",
        "  task = progress.add_task(\n",
        "        \"download\",\n",
        "        total=100,\n",
        "        status=\"[yellow]Obtaining Metadata\",\n",
        "        filename=media_name,\n",
        "        speed=\"0.0 kB/s\",\n",
        "  )\n",
        "  ses = lt.session()\n",
        "\n",
        "  # setup torrent handle\n",
        "  try:\n",
        "    atp = lt.parse_magnet_uri(link)           # atp = add torrent parameters\n",
        "  except Exception as e:\n",
        "    progress.update(task, status=\"[red]Failed to parse magnet!\")\n",
        "    return None\n",
        "  atp.save_path = str(save_path.as_posix())\n",
        "\n",
        "  handle = ses.add_torrent(atp)\n",
        "  status = handle.status()\n",
        "\n",
        "  while not handle.status().has_metadata:\n",
        "    time.sleep(METADATA_TIMEOUT_MS/1000)\n",
        "    status = handle.status()\n",
        "\n",
        "  filename =  status.name if len(status.name) < MAX_FILENAME_LEN \\\n",
        "              else f\"{status.name[:MAX_FILENAME_LEN]}...\"\n",
        "\n",
        "  progress.update(task,\n",
        "                  status=\"[yellow]Downloading\",\n",
        "                  filename=filename\n",
        "  )\n",
        "\n",
        "  # download torrent\n",
        "  while not status.is_seeding:\n",
        "    status = handle.status()\n",
        "\n",
        "    progress.update(task,\n",
        "                completed=status.progress * 100,\n",
        "                speed=f\"{status.download_rate/1000:.1f} kB/s\",\n",
        "    )\n",
        "  progress.update(task,\n",
        "                  status=\"[green]Complete\",\n",
        "                  completed=100,\n",
        "  )\n",
        "\n",
        "  return save_path"
      ],
      "metadata": {
        "id": "6jCUnfoPWoLZ"
      },
      "execution_count": 11,
      "outputs": []
    },
    {
      "cell_type": "code",
      "source": [
        "def zipfiles(progress, m, magnet_links):\n",
        "  with ThreadPoolExecutor() as executor:\n",
        "    futures = [executor.submit(download_torrent, progress, m, link) for link in magnet_links]\n",
        "    save_path = Path(\"/content/Torrents/\") / m\n",
        "\n",
        "    for future in as_completed(futures):\n",
        "      try:\n",
        "        future.result()\n",
        "      except Exception as e:\n",
        "        print(\"Upload failed:\", e)\n",
        "        return\n",
        "\n",
        "  subprocess.run([\"7za\", \"a\", \"-v1g\", f\"/content/transfer/{save_path.name}.zip\", save_path.as_posix()])\n",
        "\n",
        "with Progress(\n",
        "  TextColumn(\"{task.fields[status]}\"),\n",
        "  TextColumn(\"[bold]{task.fields[filename]}\"),\n",
        "  BarColumn(),\n",
        "  TaskProgressColumn(),\n",
        "  TimeRemainingColumn(),\n",
        "  TextColumn(\"{task.fields[speed]}\"),\n",
        ") as progress:\n",
        "\n",
        "  with ThreadPoolExecutor() as executor:\n",
        "    media = magnet_file.read()\n",
        "    futures = []\n",
        "    for m in media:\n",
        "      magnet_links = media[m][\"magnets\"]\n",
        "\n",
        "      futures.append(executor.submit(zipfiles, progress, m, magnet_links))\n",
        "\n",
        "    for future in as_completed(futures):\n",
        "      try:\n",
        "          future.result()\n",
        "      except Exception as e:\n",
        "          print(\"Upload failed:\", e)"
      ],
      "metadata": {
        "id": "DF_5q8Vys46K",
        "outputId": "99fa0c77-c744-499a-d431-f19c2a7d225f",
        "colab": {
          "base_uri": "https://localhost:8080/",
          "height": 63
        }
      },
      "execution_count": 7,
      "outputs": [
        {
          "output_type": "display_data",
          "data": {
            "text/plain": [
              "\u001b[32mComplete\u001b[0m \u001b[1m[Erai-raws] City the Animation - 07...\u001b[0m \u001b[38;2;114;156;31m━━━━━━━━━━━━━━━━━━━━━━━━━━━━━━━━━━━━━━━━\u001b[0m \u001b[35m100%\u001b[0m \u001b[36m0:00:00\u001b[0m 32514.7 kB/s\n",
              "\u001b[32mComplete\u001b[0m \u001b[1m[Erai-raws] City the Animation - 08...\u001b[0m \u001b[38;2;114;156;31m━━━━━━━━━━━━━━━━━━━━━━━━━━━━━━━━━━━━━━━━\u001b[0m \u001b[35m100%\u001b[0m \u001b[36m0:00:00\u001b[0m 9163.6 kB/s \n"
            ],
            "text/html": [
              "<pre style=\"white-space:pre;overflow-x:auto;line-height:normal;font-family:Menlo,'DejaVu Sans Mono',consolas,'Courier New',monospace\"><span style=\"color: #008000; text-decoration-color: #008000\">Complete</span> <span style=\"font-weight: bold\">[Erai-raws] City the Animation - 07...</span> <span style=\"color: #729c1f; text-decoration-color: #729c1f\">━━━━━━━━━━━━━━━━━━━━━━━━━━━━━━━━━━━━━━━━</span> <span style=\"color: #800080; text-decoration-color: #800080\">100%</span> <span style=\"color: #008080; text-decoration-color: #008080\">0:00:00</span> 32514.7 kB/s\n",
              "<span style=\"color: #008000; text-decoration-color: #008000\">Complete</span> <span style=\"font-weight: bold\">[Erai-raws] City the Animation - 08...</span> <span style=\"color: #729c1f; text-decoration-color: #729c1f\">━━━━━━━━━━━━━━━━━━━━━━━━━━━━━━━━━━━━━━━━</span> <span style=\"color: #800080; text-decoration-color: #800080\">100%</span> <span style=\"color: #008080; text-decoration-color: #008080\">0:00:00</span> 9163.6 kB/s \n",
              "</pre>\n"
            ]
          },
          "metadata": {}
        },
        {
          "output_type": "display_data",
          "data": {
            "text/plain": [],
            "text/html": [
              "<pre style=\"white-space:pre;overflow-x:auto;line-height:normal;font-family:Menlo,'DejaVu Sans Mono',consolas,'Courier New',monospace\"></pre>\n"
            ]
          },
          "metadata": {}
        }
      ]
    },
    {
      "cell_type": "code",
      "source": [
        "def oauth2(APP_KEY, APP_SECRET):\n",
        "  auth_flow = DropboxOAuth2FlowNoRedirect(APP_KEY,\n",
        "                                          consumer_secret=APP_SECRET,\n",
        "                                          scope=['files.metadata.write'],\n",
        "                                          token_access_type=\"offline\"\n",
        "  )\n",
        "\n",
        "  authorize_url = auth_flow.start()\n",
        "  print(\"1. Go to: \" + authorize_url)\n",
        "  print(\"2. Click \\\"Allow\\\" (you might have to log in first).\")\n",
        "  print(\"3. Copy the authorization code.\")\n",
        "  auth_code = input(\"Enter the authorization code here: \").strip()\n",
        "\n",
        "  try:\n",
        "      oauth_result = auth_flow.finish(auth_code)\n",
        "  except Exception as e:\n",
        "      print('Error: %s' % (e,))\n",
        "      exit(1)\n",
        "\n",
        "  return oauth_result"
      ],
      "metadata": {
        "id": "1EH3cAx1FfTO"
      },
      "execution_count": null,
      "outputs": []
    },
    {
      "cell_type": "code",
      "source": [
        "dbxcfg = dbxcfg_file.read()\n",
        "APP_KEY = dbxcfg[\"AUTHENTICATION\"][\"APP_KEY\"]\n",
        "APP_SECRET = dbxcfg[\"AUTHENTICATION\"][\"APP_SECRET\"]\n",
        "\n",
        "oauth = oauth2(APP_KEY, APP_SECRET)\n",
        "\n",
        "#TODO: implement a way to check if the refresh token is still valid.\n",
        "dbxcfg[\"AUTHENTICATION\"][\"REFRESH_TOKEN\"] = oauth.refresh_token\n",
        "dbxcfg_file.write(dbxcfg)\n",
        "\n",
        "with Dropbox(app_key=APP_KEY,\n",
        "                 app_secret=APP_SECRET,\n",
        "                 oauth2_refresh_token=oauth.refresh_token\n",
        ") as dbx:\n",
        "  dbx.files_upload()"
      ],
      "metadata": {
        "id": "ReJmwyUSwSVa"
      },
      "execution_count": null,
      "outputs": []
    }
  ]
}