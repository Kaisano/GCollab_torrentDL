{
  "nbformat": 4,
  "nbformat_minor": 0,
  "metadata": {
    "colab": {
      "provenance": [],
      "authorship_tag": "ABX9TyPITyTm3MpVuZ8arNUZwZ7B",
      "include_colab_link": true
    },
    "kernelspec": {
      "name": "python3",
      "display_name": "Python 3"
    },
    "language_info": {
      "name": "python"
    },
    "widgets": {
      "application/vnd.jupyter.widget-state+json": {
        "0145eb0318be467ea46ca229663b807d": {
          "model_module": "@jupyter-widgets/output",
          "model_name": "OutputModel",
          "model_module_version": "1.0.0",
          "state": {
            "_dom_classes": [],
            "_model_module": "@jupyter-widgets/output",
            "_model_module_version": "1.0.0",
            "_model_name": "OutputModel",
            "_view_count": null,
            "_view_module": "@jupyter-widgets/output",
            "_view_module_version": "1.0.0",
            "_view_name": "OutputView",
            "layout": "IPY_MODEL_f5f34fb2641a4267bf5bcd9fe5b5799e",
            "msg_id": "",
            "outputs": [
              {
                "output_type": "display_data",
                "data": {
                  "text/plain": "\u001b[1m[Erai-raws] City the Animation - 01 [1080p AMZN WEBRip HEVC EAC3][MultiSub][67052423].mkv\u001b[0m \u001b[38;5;237m━━━━━\u001b[0m \u001b[35m  0%\u001b[0m \u001b[36m-:--…\u001b[0m 0.0 kB/s\n\u001b[1m[Erai-raws] City the Animation - 05 [1080p AMZN WEB-DL AVC EAC3][MultiSub][C9E5B1DE].mkv\u001b[0m  \u001b[38;5;237m━━━━━\u001b[0m \u001b[35m  0%\u001b[0m \u001b[36m-:--…\u001b[0m 0.0 kB/s\n\u001b[1mYotsuba&! (Digital) (danke-Empire)\u001b[0m                                                        \u001b[38;5;237m━━━━━\u001b[0m \u001b[35m  0%\u001b[0m \u001b[36m-:--…\u001b[0m 0.0 kB/s\n",
                  "text/html": "<pre style=\"white-space:pre;overflow-x:auto;line-height:normal;font-family:Menlo,'DejaVu Sans Mono',consolas,'Courier New',monospace\"><span style=\"font-weight: bold\">[Erai-raws] City the Animation - 01 [1080p AMZN WEBRip HEVC EAC3][MultiSub][67052423].mkv</span> <span style=\"color: #3a3a3a; text-decoration-color: #3a3a3a\">━━━━━</span> <span style=\"color: #800080; text-decoration-color: #800080\">  0%</span> <span style=\"color: #008080; text-decoration-color: #008080\">-:--…</span> 0.0 kB/s\n<span style=\"font-weight: bold\">[Erai-raws] City the Animation - 05 [1080p AMZN WEB-DL AVC EAC3][MultiSub][C9E5B1DE].mkv</span>  <span style=\"color: #3a3a3a; text-decoration-color: #3a3a3a\">━━━━━</span> <span style=\"color: #800080; text-decoration-color: #800080\">  0%</span> <span style=\"color: #008080; text-decoration-color: #008080\">-:--…</span> 0.0 kB/s\n<span style=\"font-weight: bold\">Yotsuba&amp;! (Digital) (danke-Empire)</span>                                                        <span style=\"color: #3a3a3a; text-decoration-color: #3a3a3a\">━━━━━</span> <span style=\"color: #800080; text-decoration-color: #800080\">  0%</span> <span style=\"color: #008080; text-decoration-color: #008080\">-:--…</span> 0.0 kB/s\n</pre>\n"
                },
                "metadata": {}
              }
            ]
          }
        },
        "f5f34fb2641a4267bf5bcd9fe5b5799e": {
          "model_module": "@jupyter-widgets/base",
          "model_name": "LayoutModel",
          "model_module_version": "1.2.0",
          "state": {
            "_model_module": "@jupyter-widgets/base",
            "_model_module_version": "1.2.0",
            "_model_name": "LayoutModel",
            "_view_count": null,
            "_view_module": "@jupyter-widgets/base",
            "_view_module_version": "1.2.0",
            "_view_name": "LayoutView",
            "align_content": null,
            "align_items": null,
            "align_self": null,
            "border": null,
            "bottom": null,
            "display": null,
            "flex": null,
            "flex_flow": null,
            "grid_area": null,
            "grid_auto_columns": null,
            "grid_auto_flow": null,
            "grid_auto_rows": null,
            "grid_column": null,
            "grid_gap": null,
            "grid_row": null,
            "grid_template_areas": null,
            "grid_template_columns": null,
            "grid_template_rows": null,
            "height": null,
            "justify_content": null,
            "justify_items": null,
            "left": null,
            "margin": null,
            "max_height": null,
            "max_width": null,
            "min_height": null,
            "min_width": null,
            "object_fit": null,
            "object_position": null,
            "order": null,
            "overflow": null,
            "overflow_x": null,
            "overflow_y": null,
            "padding": null,
            "right": null,
            "top": null,
            "visibility": null,
            "width": null
          }
        }
      }
    }
  },
  "cells": [
    {
      "cell_type": "markdown",
      "metadata": {
        "id": "view-in-github",
        "colab_type": "text"
      },
      "source": [
        "<a href=\"https://colab.research.google.com/github/Kaisano/GCollab_torrentDL/blob/main/torrent_dl.ipynb\" target=\"_parent\"><img src=\"https://colab.research.google.com/assets/colab-badge.svg\" alt=\"Open In Colab\"/></a>"
      ]
    },
    {
      "cell_type": "markdown",
      "source": [
        "# Install Dependencies"
      ],
      "metadata": {
        "id": "MvoTfeZpP_DM"
      }
    },
    {
      "cell_type": "code",
      "execution_count": 1,
      "metadata": {
        "colab": {
          "base_uri": "https://localhost:8080/"
        },
        "id": "LJjbdSeD7zZj",
        "outputId": "4c1526af-ddaf-43e8-cbd3-7baac72fbed0",
        "collapsed": true
      },
      "outputs": [
        {
          "output_type": "stream",
          "name": "stdout",
          "text": [
            "Requirement already satisfied: pip in /usr/local/lib/python3.12/dist-packages (24.1.2)\n",
            "Collecting pip\n",
            "  Downloading pip-25.2-py3-none-any.whl.metadata (4.7 kB)\n",
            "Requirement already satisfied: setuptools in /usr/local/lib/python3.12/dist-packages (75.2.0)\n",
            "Collecting setuptools\n",
            "  Downloading setuptools-80.9.0-py3-none-any.whl.metadata (6.6 kB)\n",
            "Requirement already satisfied: wheel in /usr/local/lib/python3.12/dist-packages (0.45.1)\n",
            "Downloading pip-25.2-py3-none-any.whl (1.8 MB)\n",
            "\u001b[2K   \u001b[90m━━━━━━━━━━━━━━━━━━━━━━━━━━━━━━━━━━━━━━━━\u001b[0m \u001b[32m1.8/1.8 MB\u001b[0m \u001b[31m23.2 MB/s\u001b[0m eta \u001b[36m0:00:00\u001b[0m\n",
            "\u001b[?25hDownloading setuptools-80.9.0-py3-none-any.whl (1.2 MB)\n",
            "\u001b[2K   \u001b[90m━━━━━━━━━━━━━━━━━━━━━━━━━━━━━━━━━━━━━━━━\u001b[0m \u001b[32m1.2/1.2 MB\u001b[0m \u001b[31m50.0 MB/s\u001b[0m eta \u001b[36m0:00:00\u001b[0m\n",
            "\u001b[?25hInstalling collected packages: setuptools, pip\n",
            "  Attempting uninstall: setuptools\n",
            "    Found existing installation: setuptools 75.2.0\n",
            "    Uninstalling setuptools-75.2.0:\n",
            "      Successfully uninstalled setuptools-75.2.0\n",
            "  Attempting uninstall: pip\n",
            "    Found existing installation: pip 24.1.2\n",
            "    Uninstalling pip-24.1.2:\n",
            "      Successfully uninstalled pip-24.1.2\n",
            "\u001b[31mERROR: pip's dependency resolver does not currently take into account all the packages that are installed. This behaviour is the source of the following dependency conflicts.\n",
            "ipython 7.34.0 requires jedi>=0.16, which is not installed.\u001b[0m\u001b[31m\n",
            "\u001b[0mSuccessfully installed pip-25.2 setuptools-80.9.0\n",
            "Collecting lbry-libtorrent\n",
            "  Downloading lbry_libtorrent-1.2.4-py3-none-any.whl.metadata (347 bytes)\n",
            "Downloading lbry_libtorrent-1.2.4-py3-none-any.whl (2.4 MB)\n",
            "\u001b[2K   \u001b[90m━━━━━━━━━━━━━━━━━━━━━━━━━━━━━━━━━━━━━━━━\u001b[0m \u001b[32m2.4/2.4 MB\u001b[0m \u001b[31m32.0 MB/s\u001b[0m  \u001b[33m0:00:00\u001b[0m\n",
            "\u001b[?25hInstalling collected packages: lbry-libtorrent\n",
            "Successfully installed lbry-libtorrent-1.2.4\n",
            "Collecting libtorrent\n",
            "  Downloading libtorrent-2.0.11-cp312-cp312-manylinux_2_17_x86_64.manylinux2014_x86_64.whl.metadata (362 bytes)\n",
            "Downloading libtorrent-2.0.11-cp312-cp312-manylinux_2_17_x86_64.manylinux2014_x86_64.whl (8.5 MB)\n",
            "\u001b[2K   \u001b[90m━━━━━━━━━━━━━━━━━━━━━━━━━━━━━━━━━━━━━━━━\u001b[0m \u001b[32m8.5/8.5 MB\u001b[0m \u001b[31m60.7 MB/s\u001b[0m  \u001b[33m0:00:00\u001b[0m\n",
            "\u001b[?25hInstalling collected packages: libtorrent\n",
            "Successfully installed libtorrent-2.0.11\n",
            "Reading package lists... Done\n",
            "Building dependency tree... Done\n",
            "Reading state information... Done\n",
            "The following NEW packages will be installed:\n",
            "  7zip\n",
            "0 upgraded, 1 newly installed, 0 to remove and 38 not upgraded.\n",
            "Need to get 971 kB of archives.\n",
            "After this operation, 2,454 kB of additional disk space will be used.\n",
            "Get:1 http://archive.ubuntu.com/ubuntu jammy/universe amd64 7zip amd64 21.07+dfsg-4 [971 kB]\n",
            "Fetched 971 kB in 0s (3,065 kB/s)\n",
            "Selecting previously unselected package 7zip.\n",
            "(Reading database ... 126675 files and directories currently installed.)\n",
            "Preparing to unpack .../7zip_21.07+dfsg-4_amd64.deb ...\n",
            "Unpacking 7zip (21.07+dfsg-4) ...\n",
            "Setting up 7zip (21.07+dfsg-4) ...\n",
            "Processing triggers for man-db (2.10.2-1) ...\n",
            "Collecting dropbox\n",
            "  Downloading dropbox-12.0.2-py3-none-any.whl.metadata (4.3 kB)\n",
            "Requirement already satisfied: requests>=2.16.2 in /usr/local/lib/python3.12/dist-packages (from dropbox) (2.32.4)\n",
            "Requirement already satisfied: six>=1.12.0 in /usr/local/lib/python3.12/dist-packages (from dropbox) (1.17.0)\n",
            "Collecting stone<3.3.3,>=2 (from dropbox)\n",
            "  Downloading stone-3.3.1-py3-none-any.whl.metadata (8.0 kB)\n",
            "Requirement already satisfied: ply>=3.4 in /usr/local/lib/python3.12/dist-packages (from stone<3.3.3,>=2->dropbox) (3.11)\n",
            "Requirement already satisfied: charset_normalizer<4,>=2 in /usr/local/lib/python3.12/dist-packages (from requests>=2.16.2->dropbox) (3.4.3)\n",
            "Requirement already satisfied: idna<4,>=2.5 in /usr/local/lib/python3.12/dist-packages (from requests>=2.16.2->dropbox) (3.10)\n",
            "Requirement already satisfied: urllib3<3,>=1.21.1 in /usr/local/lib/python3.12/dist-packages (from requests>=2.16.2->dropbox) (2.5.0)\n",
            "Requirement already satisfied: certifi>=2017.4.17 in /usr/local/lib/python3.12/dist-packages (from requests>=2.16.2->dropbox) (2025.8.3)\n",
            "Downloading dropbox-12.0.2-py3-none-any.whl (572 kB)\n",
            "\u001b[2K   \u001b[90m━━━━━━━━━━━━━━━━━━━━━━━━━━━━━━━━━━━━━━━━\u001b[0m \u001b[32m572.1/572.1 kB\u001b[0m \u001b[31m14.8 MB/s\u001b[0m  \u001b[33m0:00:00\u001b[0m\n",
            "\u001b[?25hDownloading stone-3.3.1-py3-none-any.whl (162 kB)\n",
            "Installing collected packages: stone, dropbox\n",
            "\u001b[2K   \u001b[90m━━━━━━━━━━━━━━━━━━━━━━━━━━━━━━━━━━━━━━━━\u001b[0m \u001b[32m2/2\u001b[0m [dropbox]\n",
            "\u001b[1A\u001b[2KSuccessfully installed dropbox-12.0.2 stone-3.3.1\n"
          ]
        }
      ],
      "source": [
        "!python -m pip install --upgrade pip setuptools wheel\n",
        "!python -m pip install lbry-libtorrent\n",
        "!pip install libtorrent\n",
        "!apt install 7zip\n",
        "!pip install dropbox"
      ]
    },
    {
      "cell_type": "markdown",
      "source": [
        "# Imports\n",
        "rich.progress for concurrent progress tracking<br>\n",
        "libtorrent as torrent client<br>\n",
        "dropbox as storage solution<br>"
      ],
      "metadata": {
        "id": "szsLIaelQCZ8"
      }
    },
    {
      "cell_type": "code",
      "source": [
        "import sys\n",
        "import os, subprocess, glob\n",
        "import time\n",
        "from timeit import default_timer as timer\n",
        "\n",
        "from rich.progress import Progress, TextColumn, BarColumn, TaskProgressColumn, TimeRemainingColumn\n",
        "\n",
        "from pathlib import Path\n",
        "import libtorrent as lt\n",
        "\n",
        "import dropbox\n",
        "from dropbox.files import WriteMode\n",
        "from dropbox.exceptions import ApiError, AuthError\n",
        "\n",
        "from concurrent.futures import ThreadPoolExecutor, Future"
      ],
      "metadata": {
        "id": "BHJqPWRToZlT"
      },
      "execution_count": 37,
      "outputs": []
    },
    {
      "cell_type": "markdown",
      "source": [
        "# Setup Filesystem"
      ],
      "metadata": {
        "id": "7KMB2YvOQT4u"
      }
    },
    {
      "cell_type": "code",
      "source": [
        "magnets_path = Path(\"/content/magnet.links\")\n",
        "torrents_path = Path(\"/content/Torrent Files\")\n",
        "tkn_path = Path(\"/content/dbx.tkn\")\n",
        "\n",
        "if not torrents_path.exists():  torrents_path.mkdir()\n",
        "if not magnets_path.exists():   magnets_path.touch()\n",
        "if not tkn_path.exists():       tkn_path.touch()"
      ],
      "metadata": {
        "id": "qAvoGX8WQVe3"
      },
      "execution_count": 7,
      "outputs": []
    },
    {
      "cell_type": "code",
      "source": [
        "# if path.stat().st_size == 0:\n",
        "\n",
        "links = list(magnets_path.read_text(encoding=\"utf-8\").splitlines())\n",
        "TOKEN = str(Path(\"dbx.tkn\").read_text().rstrip().strip())"
      ],
      "metadata": {
        "id": "GQNrMJLvUI_3"
      },
      "execution_count": 60,
      "outputs": []
    },
    {
      "cell_type": "code",
      "source": [
        "def get_metadata(progress, task, handle: lt.torrent_handle, timeout=90):\n",
        "  progress.update(task, filename=\"Obtaining Metadata...\")\n",
        "  status = handle.status()\n",
        "\n",
        "  refresh_time_ms = 0.8\n",
        "  start_time = timer()\n",
        "  while not status.has_metadata:\n",
        "    time.sleep(refresh_time_ms/1000)\n",
        "    status = handle.status()\n",
        "\n",
        "    if start_time - timer() > timeout:\n",
        "      # print(\"Timed out on obtaining metadata\")\n",
        "      return None\n",
        "  progress.update(task, filename=handle.status().name)\n",
        "\n",
        "  return status\n",
        "\n",
        "# TODO: Handle torrent files\n",
        "def download_torrent(progress: Progress, link):\n",
        "  save_path = Path(\"/content/Torrents/\")\n",
        "  if not save_path.exists(): save_path.mkdir()\n",
        "\n",
        "  ses = lt.session()\n",
        "\n",
        "  try:\n",
        "    atp = lt.parse_magnet_uri(link)           # atp = add torrent parameters\n",
        "  except Exception as e:\n",
        "    # print(\"Failed to parse magnet URI: \", e)\n",
        "    return None\n",
        "  atp.save_path = str(save_path.as_posix())\n",
        "\n",
        "  task = progress.add_task(\n",
        "        \"download\",\n",
        "        total=100,\n",
        "        filename=\"Initialized client\",\n",
        "        speed=\"0.0 kB/s\",\n",
        "        )\n",
        "\n",
        "  handle = ses.add_torrent(atp)\n",
        "  status = get_metadata(progress, task, handle)\n",
        "\n",
        "  if status is None:\n",
        "    return None\n",
        "\n",
        "  # while not status.is_seeding:\n",
        "  #   status = handle.status()\n",
        "\n",
        "  #   progress.update(task,\n",
        "  #               completed=status.progress * 100,\n",
        "  #               speed=f\"{status.download_rate/1000:.1f} kB/s\",\n",
        "  #           )\n",
        "  # progress.update(task,\n",
        "  #               completed=status.progress * 100,\n",
        "  #               speed=f\"{status.download_rate/1000:.1f} kB/s\",\n",
        "  #           )\n",
        "\n",
        "  return Path(\"/content/Torrents/\" + handle.status().name)\n",
        ""
      ],
      "metadata": {
        "id": "6jCUnfoPWoLZ"
      },
      "execution_count": 71,
      "outputs": []
    },
    {
      "cell_type": "code",
      "source": [
        "def process_magnet_links(progress, links):\n",
        "  def tor_factory(link):\n",
        "    return download_torrent(progress, link)\n",
        "\n",
        "  completed_torrents = {}\n",
        "  with ThreadPoolExecutor() as executor:\n",
        "    for link, file in zip(links, executor.map(tor_factory, links)):\n",
        "      completed_torrents[file.name] = (file)\n",
        "\n",
        "  return completed_torrents\n",
        "\n",
        "torrents = None\n",
        "with Progress(\n",
        "  TextColumn(\"[bold]{task.fields[filename]}\"),\n",
        "  BarColumn(),\n",
        "  TaskProgressColumn(),\n",
        "  TimeRemainingColumn(),\n",
        "  TextColumn(\"{task.fields[speed]}\"),\n",
        "  ) \\\n",
        "as progress:\n",
        "  torrents = process_magnet_links(progress, links)"
      ],
      "metadata": {
        "id": "DF_5q8Vys46K",
        "outputId": "9856c7ba-9b32-4be0-d50e-ee6a4be70fc0",
        "colab": {
          "base_uri": "https://localhost:8080/",
          "height": 68,
          "referenced_widgets": [
            "0145eb0318be467ea46ca229663b807d",
            "f5f34fb2641a4267bf5bcd9fe5b5799e"
          ]
        }
      },
      "execution_count": 72,
      "outputs": [
        {
          "output_type": "display_data",
          "data": {
            "text/plain": [
              "Output()"
            ],
            "application/vnd.jupyter.widget-view+json": {
              "version_major": 2,
              "version_minor": 0,
              "model_id": "0145eb0318be467ea46ca229663b807d"
            }
          },
          "metadata": {}
        },
        {
          "output_type": "display_data",
          "data": {
            "text/plain": [],
            "text/html": [
              "<pre style=\"white-space:pre;overflow-x:auto;line-height:normal;font-family:Menlo,'DejaVu Sans Mono',consolas,'Courier New',monospace\"></pre>\n"
            ]
          },
          "metadata": {}
        }
      ]
    },
    {
      "cell_type": "code",
      "source": [
        "print(torrents)"
      ],
      "metadata": {
        "id": "WUQWZdsMtFi9",
        "outputId": "1eac4a65-954c-4787-9307-a425f4067d6c",
        "colab": {
          "base_uri": "https://localhost:8080/"
        }
      },
      "execution_count": 73,
      "outputs": [
        {
          "output_type": "stream",
          "name": "stdout",
          "text": [
            "{'[Erai-raws] City the Animation - 01 [1080p AMZN WEBRip HEVC EAC3][MultiSub][67052423].mkv': PosixPath('/content/Torrents/[Erai-raws] City the Animation - 01 [1080p AMZN WEBRip HEVC EAC3][MultiSub][67052423].mkv'), '[Erai-raws] City the Animation - 05 [1080p AMZN WEB-DL AVC EAC3][MultiSub][C9E5B1DE].mkv': PosixPath('/content/Torrents/[Erai-raws] City the Animation - 05 [1080p AMZN WEB-DL AVC EAC3][MultiSub][C9E5B1DE].mkv'), 'Yotsuba&! (Digital) (danke-Empire)': PosixPath('/content/Torrents/Yotsuba&! (Digital) (danke-Empire)')}\n"
          ]
        }
      ]
    },
    {
      "cell_type": "code",
      "source": [
        "# subprocess.run([\"7za\", \"a\", \"-v1024m\", \"/content/Torrent.zip\", \"/content/Torrent/\"])"
      ],
      "metadata": {
        "id": "JLGWX44myDSD",
        "colab": {
          "base_uri": "https://localhost:8080/"
        },
        "outputId": "92050a12-fd64-4784-97a0-f02ac2151998"
      },
      "execution_count": null,
      "outputs": [
        {
          "output_type": "execute_result",
          "data": {
            "text/plain": [
              "CompletedProcess(args=['7za', 'a', '-v1024m', '/content/Torrent.zip', '/content/Torrent/'], returncode=2)"
            ]
          },
          "metadata": {},
          "execution_count": 13
        }
      ]
    },
    {
      "cell_type": "code",
      "source": [
        "# def upload(\n",
        "#     access_token,\n",
        "#     file_path,\n",
        "#     target_path,\n",
        "#     timeout=900,\n",
        "#     chunk_size=4 * 1024 * 1024,\n",
        "# ):\n",
        "#     dbx = dropbox.Dropbox(access_token, timeout=timeout)\n",
        "#     with open(file_path, \"rb\") as f:\n",
        "#         file_size = os.path.getsize(file_path)\n",
        "#         if file_size <= chunk_size:\n",
        "#             print(dbx.files_upload(f.read(), target_path))\n",
        "#         else:\n",
        "#             with tqdm(total=file_size, desc=\"Uploaded\") as pbar:\n",
        "#                 upload_session_start_result = dbx.files_upload_session_start(\n",
        "#                     f.read(chunk_size)\n",
        "#                 )\n",
        "#                 pbar.update(chunk_size)\n",
        "#                 cursor = dropbox.files.UploadSessionCursor(\n",
        "#                     session_id=upload_session_start_result.session_id,\n",
        "#                     offset=f.tell(),\n",
        "#                 )\n",
        "#                 commit = dropbox.files.CommitInfo(path=target_path)\n",
        "#                 while f.tell() < file_size:\n",
        "#                     if (file_size - f.tell()) <= chunk_size:\n",
        "#                         print(\n",
        "#                             dbx.files_upload_session_finish(\n",
        "#                                 f.read(chunk_size), cursor, commit\n",
        "#                             )\n",
        "#                         )\n",
        "#                     else:\n",
        "#                         dbx.files_upload_session_append(\n",
        "#                             f.read(chunk_size),\n",
        "#                             cursor.session_id,\n",
        "#                             cursor.offset,\n",
        "#                         )\n",
        "#                         cursor.offset = f.tell()\n",
        "#                     pbar.update(chunk_size)\n",
        "\n",
        "# torrents = list(Path(\"/content/\").glob(\"Torrent.zip.*\"))\n",
        "# # upload(TOKEN, torrents[1].as_posix(), \"/Torrent/\" + torrents[1].name)\n",
        "# # for torrent in torrents:\n",
        "\n",
        "\n",
        "# # run uploads in parallel\n",
        "# with concurrent.futures.ThreadPoolExecutor(max_workers=2) as executor:\n",
        "#     futures = [\n",
        "#         executor.submit(upload, TOKEN, torrent.as_posix(), \"/Torrent/\" + torrent.name)\n",
        "#         for torrent in torrents\n",
        "#     ]\n",
        "#     for future in concurrent.futures.as_completed(futures):\n",
        "#         try:\n",
        "#             future.result()\n",
        "#         except Exception as e:\n",
        "#             print(\"Upload failed:\", e)"
      ],
      "metadata": {
        "colab": {
          "base_uri": "https://localhost:8080/"
        },
        "id": "1EH3cAx1FfTO",
        "outputId": "b0e9933b-aa8f-4250-b6af-dac664eb7f1a"
      },
      "execution_count": null,
      "outputs": [
        {
          "output_type": "stream",
          "name": "stderr",
          "text": [
            "Uploaded: 931135488it [03:34, 4341456.09it/s]"
          ]
        },
        {
          "output_type": "stream",
          "name": "stdout",
          "text": [
            "FileMetadata(client_modified=datetime.datetime(2025, 10, 6, 6, 35, 57), content_hash='7da9e45bf034cf26c2e008db41876fc4150e4e0eef238532d2e7ea92cc9631cd', export_info=NOT_SET, file_lock_info=NOT_SET, has_explicit_shared_members=NOT_SET, id='id:uarvdFOTHrAAAAAAAAAAHg', is_downloadable=True, media_info=NOT_SET, name='Torrent.zip.001', parent_shared_folder_id=NOT_SET, path_display='/Torrent/Torrent.zip.001', path_lower='/torrent/torrent.zip.001', preview_url=NOT_SET, property_groups=NOT_SET, rev='0164077aa05e6c60000000300d37ac1', server_modified=datetime.datetime(2025, 10, 6, 6, 35, 58), sharing_info=NOT_SET, size=928419183, symlink_info=NOT_SET)\n"
          ]
        },
        {
          "output_type": "stream",
          "name": "stderr",
          "text": [
            "\n"
          ]
        }
      ]
    }
  ]
}